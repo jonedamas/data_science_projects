{
 "cells": [
  {
   "cell_type": "code",
   "execution_count": 5,
   "metadata": {},
   "outputs": [
    {
     "name": "stdout",
     "output_type": "stream",
     "text": [
      "YTM: 0.089\n"
     ]
    }
   ],
   "source": [
    "from sympy.solvers import solve\n",
    "from sympy import Symbol\n",
    "\n",
    "# YMF function:\n",
    "def YTM(y, C, F, T):\n",
    "    return C * (1/y - 1/(y*(1 + y) ** T))+ F / (1 + y) ** T\n",
    "\n",
    "T = 6\n",
    "\n",
    "payments_per_year = 1\n",
    "\n",
    "price = 958\n",
    "\n",
    "face = 1000\n",
    "\n",
    "rate = 0.08\n",
    "\n",
    "C = face * rate / payments_per_year\n",
    "\n",
    "y = Symbol('y')\n",
    "\n",
    "ytm = solve(YTM(y, C, face, T) - price, y)[1]\n",
    "\n",
    "print(f'YTM: {ytm:.2%}')\n",
    "\n"
   ]
  }
 ],
 "metadata": {
  "kernelspec": {
   "display_name": "base",
   "language": "python",
   "name": "python3"
  },
  "language_info": {
   "codemirror_mode": {
    "name": "ipython",
    "version": 3
   },
   "file_extension": ".py",
   "mimetype": "text/x-python",
   "name": "python",
   "nbconvert_exporter": "python",
   "pygments_lexer": "ipython3",
   "version": "3.11.4"
  },
  "orig_nbformat": 4
 },
 "nbformat": 4,
 "nbformat_minor": 2
}
