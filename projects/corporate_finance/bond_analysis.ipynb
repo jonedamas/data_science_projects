{
 "cells": [
  {
   "cell_type": "code",
   "execution_count": 8,
   "metadata": {},
   "outputs": [
    {
     "name": "stdout",
     "output_type": "stream",
     "text": [
      "1: 42.45\n",
      "2: 40.05\n",
      "3: 37.78\n",
      "4: 35.64\n",
      "5: 33.63\n",
      "6: 31.72\n",
      "7: 29.93\n",
      "8: 28.23\n",
      "9: 26.64\n",
      "10: 25.13\n",
      "11: 23.71\n",
      "12: 22.36\n",
      "13: 21.10\n",
      "14: 19.90\n",
      "15: 18.78\n",
      "16: 17.71\n",
      "17: 16.71\n",
      "18: 15.77\n",
      "19: 14.87\n",
      "20: 14.03\n",
      "Bond duration: 12.11\n",
      "Adjusted bond duration: 10.81\n"
     ]
    }
   ],
   "source": [
    "face_value = 1000\n",
    "\n",
    "price = 827.96\n",
    "\n",
    "coupon_rate = 0.09\n",
    "\n",
    "interest_rate = 0.12\n",
    "\n",
    "payments_per_year = 2\n",
    "\n",
    "T = 10\n",
    "\n",
    "C = face_value * coupon_rate / payments_per_year\n",
    "\n",
    "# Duration\n",
    "D = 0\n",
    "\n",
    "for t in range(1, (T * payments_per_year) + 1):\n",
    "\n",
    "    discounted_C = C / (1 + interest_rate / payments_per_year) ** t\n",
    "\n",
    "    if t == T * payments_per_year:\n",
    "        D += (T * face_value/ (1 + interest_rate / payments_per_year) ** T) / price\n",
    "\n",
    "    D += t * discounted_C / price\n",
    "\n",
    "    print(f'{t}: {discounted_C:.2f}')\n",
    "\n",
    "D_adjusted = D / (1 + interest_rate)\n",
    "\n",
    "print(f'Bond duration: {D:.2f}')\n",
    "print(f'Adjusted bond duration: {D_adjusted:.2f}')"
   ]
  }
 ],
 "metadata": {
  "kernelspec": {
   "display_name": "base",
   "language": "python",
   "name": "python3"
  },
  "language_info": {
   "codemirror_mode": {
    "name": "ipython",
    "version": 3
   },
   "file_extension": ".py",
   "mimetype": "text/x-python",
   "name": "python",
   "nbconvert_exporter": "python",
   "pygments_lexer": "ipython3",
   "version": "3.11.4"
  },
  "orig_nbformat": 4
 },
 "nbformat": 4,
 "nbformat_minor": 2
}
