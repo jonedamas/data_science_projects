{
 "cells": [
  {
   "cell_type": "code",
   "execution_count": 6,
   "metadata": {},
   "outputs": [
    {
     "name": "stdout",
     "output_type": "stream",
     "text": [
      "1: 84.91\n",
      "2: 80.10\n",
      "3: 75.57\n",
      "4: 71.29\n",
      "5: 67.25\n",
      "6: 63.45\n",
      "7: 59.86\n",
      "8: 56.47\n",
      "9: 53.27\n",
      "10: 50.26\n",
      "11: 47.41\n",
      "12: 44.73\n",
      "13: 42.20\n",
      "14: 39.81\n",
      "15: 37.55\n",
      "16: 35.43\n",
      "17: 33.42\n",
      "18: 31.53\n",
      "19: 29.75\n",
      "20: 28.06\n",
      "Bond duration: 17.47\n",
      "Adjusted bond duration: 15.60\n"
     ]
    }
   ],
   "source": [
    "face_value = 1000\n",
    "\n",
    "price = 827.96\n",
    "\n",
    "coupon_rate = 0.09\n",
    "\n",
    "interest_rate = 0.12\n",
    "\n",
    "payments_per_year = 2\n",
    "\n",
    "T = 10\n",
    "\n",
    "C = face_value * coupon_rate / payments_per_year\n",
    "\n",
    "# Duration\n",
    "D = 0\n",
    "\n",
    "for t in range(1, (T * payments_per_year) + 1):\n",
    "\n",
    "    discounted_C = C / (1 + interest_rate / payments_per_year) ** t\n",
    "\n",
    "    if t == T * payments_per_year:\n",
    "        D += (T * face_value/ (1 + interest_rate / payments_per_year) ** T) / price\n",
    "\n",
    "    D += t * discounted_C / price\n",
    "\n",
    "    print(f'{t}: {discounted_C:.2f}')\n",
    "\n",
    "D_adjusted = D / (1 + interest_rate)\n",
    "\n",
    "print(f'Bond duration: {D:.2f}')\n",
    "print(f'Adjusted bond duration: {D_adjusted:.2f}')"
   ]
  }
 ],
 "metadata": {
  "kernelspec": {
   "display_name": "base",
   "language": "python",
   "name": "python3"
  },
  "language_info": {
   "codemirror_mode": {
    "name": "ipython",
    "version": 3
   },
   "file_extension": ".py",
   "mimetype": "text/x-python",
   "name": "python",
   "nbconvert_exporter": "python",
   "pygments_lexer": "ipython3",
   "version": "3.11.4"
  },
  "orig_nbformat": 4
 },
 "nbformat": 4,
 "nbformat_minor": 2
}
