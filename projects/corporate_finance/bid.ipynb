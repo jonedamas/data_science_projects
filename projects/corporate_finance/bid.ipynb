{
 "cells": [
  {
   "cell_type": "code",
   "execution_count": 41,
   "metadata": {},
   "outputs": [
    {
     "name": "stdout",
     "output_type": "stream",
     "text": [
      "Probability of acquiring the asset: 1.0\n",
      "Expected profit for the buyer: 115.5538\n",
      "Expected profit for the seller: 50.5538\n",
      "Expected profit when always buying: 115.5538\n"
     ]
    }
   ],
   "source": [
    "import numpy as np\n",
    "import matplotlib.pyplot as plt\n",
    "\n",
    "Nsim = 100000\n",
    "\n",
    "buy_list, sell_list, always = np.zeros(Nsim), np.zeros(Nsim), np.zeros(Nsim)\n",
    "\n",
    "for i in range(Nsim):\n",
    "    v = int(np.random.randint(0, 100, 1)) # asset value\n",
    "    # p = int(np.random.randint(0, 100, 1)) # buyers offer\n",
    "\n",
    "    p = 100\n",
    "\n",
    "    if v <= p:\n",
    "        buy_list[i] = p - v + 65\n",
    "        sell_list[i] = p - v\n",
    "    else:\n",
    "        buy_list[i] = 0\n",
    "        sell_list[i] = 0\n",
    "\n",
    "    always[i] = p - v + 65\n",
    "\n",
    "prob_aquire = len(buy_list[buy_list > 0]) / len(buy_list)\n",
    "print(f'Probability of acquiring the asset: {prob_aquire}')\n",
    "\n",
    "exp_profit = np.mean(buy_list)\n",
    "print(f'Expected profit for the buyer: {exp_profit}')\n",
    "\n",
    "exp_profit_sell = np.mean(sell_list)\n",
    "print(f'Expected profit for the seller: {exp_profit_sell}')\n",
    "\n",
    "always_buy = np.mean(always)\n",
    "print(f'Expected profit when always buying: {always_buy}')\n"
   ]
  },
  {
   "cell_type": "code",
   "execution_count": null,
   "metadata": {},
   "outputs": [],
   "source": []
  }
 ],
 "metadata": {
  "kernelspec": {
   "display_name": "base",
   "language": "python",
   "name": "python3"
  },
  "language_info": {
   "codemirror_mode": {
    "name": "ipython",
    "version": 3
   },
   "file_extension": ".py",
   "mimetype": "text/x-python",
   "name": "python",
   "nbconvert_exporter": "python",
   "pygments_lexer": "ipython3",
   "version": "3.11.4"
  },
  "orig_nbformat": 4
 },
 "nbformat": 4,
 "nbformat_minor": 2
}
