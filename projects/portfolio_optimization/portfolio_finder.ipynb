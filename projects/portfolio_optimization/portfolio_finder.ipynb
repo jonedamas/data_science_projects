{
 "cells": [
  {
   "cell_type": "code",
   "execution_count": 38,
   "metadata": {},
   "outputs": [],
   "source": [
    "import numpy as np\n",
    "import yfinance as yf\n",
    "import pandas as pd\n",
    "from tqdm import trange, tqdm\n",
    "import matplotlib.pyplot as plt\n",
    "from scipy.optimize import minimize\n",
    "from numpy.typing import NDArray\n",
    "import random\n",
    "\n",
    "from utils import *"
   ]
  },
  {
   "cell_type": "markdown",
   "metadata": {},
   "source": [
    "## Data loading"
   ]
  },
  {
   "cell_type": "code",
   "execution_count": 39,
   "metadata": {},
   "outputs": [
    {
     "name": "stdout",
     "output_type": "stream",
     "text": [
      "[*********************100%%**********************]  341 of 341 completed\n",
      "Number of stocks included: 200\n"
     ]
    },
    {
     "name": "stderr",
     "output_type": "stream",
     "text": [
      "c:\\Users\\joneh\\anaconda3\\Lib\\site-packages\\pandas\\core\\internals\\blocks.py:351: RuntimeWarning: invalid value encountered in log\n",
      "  result = func(self.values, **kwargs)\n"
     ]
    }
   ],
   "source": [
    "years = 4\n",
    "\n",
    "# Reading tickers from csv file and converting to yfinanc format\n",
    "all_tickers = list(pd.read_csv('tickers.csv')['Symbol'].astype(str) + '.OL')\n",
    "\n",
    "# Downloading data from yahoo finance\n",
    "data = yf.download(\n",
    "    all_tickers, \n",
    "    period=f'{years}Y'\n",
    ")['Adj Close'].dropna(\n",
    "    axis=1, \n",
    "    thresh=252 * years - 10\n",
    ")\n",
    "\n",
    "print(f'Number of stocks included: {len(data.columns)}')\n",
    "\n",
    "log_returns = np.log(data/data.shift()).dropna()\n"
   ]
  },
  {
   "cell_type": "markdown",
   "metadata": {},
   "source": [
    "## Diversifier"
   ]
  },
  {
   "cell_type": "code",
   "execution_count": 40,
   "metadata": {},
   "outputs": [
    {
     "name": "stderr",
     "output_type": "stream",
     "text": [
      "100%|██████████| 10000/10000 [00:04<00:00, 2207.57it/s]\n"
     ]
    },
    {
     "data": {
      "text/html": [
       "<div>\n",
       "<style scoped>\n",
       "    .dataframe tbody tr th:only-of-type {\n",
       "        vertical-align: middle;\n",
       "    }\n",
       "\n",
       "    .dataframe tbody tr th {\n",
       "        vertical-align: top;\n",
       "    }\n",
       "\n",
       "    .dataframe thead th {\n",
       "        text-align: right;\n",
       "    }\n",
       "</style>\n",
       "<table border=\"1\" class=\"dataframe\">\n",
       "  <thead>\n",
       "    <tr style=\"text-align: right;\">\n",
       "      <th></th>\n",
       "      <th>Black Sea Property</th>\n",
       "      <th>River Tech</th>\n",
       "      <th>Northern Drilling</th>\n",
       "      <th>Adevinta</th>\n",
       "      <th>Romreal</th>\n",
       "    </tr>\n",
       "  </thead>\n",
       "  <tbody>\n",
       "    <tr>\n",
       "      <th>Black Sea Property</th>\n",
       "      <td>1.000000</td>\n",
       "      <td>-0.005987</td>\n",
       "      <td>-0.079982</td>\n",
       "      <td>-0.038368</td>\n",
       "      <td>0.007416</td>\n",
       "    </tr>\n",
       "    <tr>\n",
       "      <th>River Tech</th>\n",
       "      <td>-0.005987</td>\n",
       "      <td>1.000000</td>\n",
       "      <td>-0.070540</td>\n",
       "      <td>-0.000269</td>\n",
       "      <td>-0.041438</td>\n",
       "    </tr>\n",
       "    <tr>\n",
       "      <th>Northern Drilling</th>\n",
       "      <td>-0.079982</td>\n",
       "      <td>-0.070540</td>\n",
       "      <td>1.000000</td>\n",
       "      <td>0.055094</td>\n",
       "      <td>0.021800</td>\n",
       "    </tr>\n",
       "    <tr>\n",
       "      <th>Adevinta</th>\n",
       "      <td>-0.038368</td>\n",
       "      <td>-0.000269</td>\n",
       "      <td>0.055094</td>\n",
       "      <td>1.000000</td>\n",
       "      <td>0.030055</td>\n",
       "    </tr>\n",
       "    <tr>\n",
       "      <th>Romreal</th>\n",
       "      <td>0.007416</td>\n",
       "      <td>-0.041438</td>\n",
       "      <td>0.021800</td>\n",
       "      <td>0.030055</td>\n",
       "      <td>1.000000</td>\n",
       "    </tr>\n",
       "  </tbody>\n",
       "</table>\n",
       "</div>"
      ],
      "text/plain": [
       "                    Black Sea Property  River Tech  Northern Drilling  \\\n",
       "Black Sea Property            1.000000   -0.005987          -0.079982   \n",
       "River Tech                   -0.005987    1.000000          -0.070540   \n",
       "Northern Drilling            -0.079982   -0.070540           1.000000   \n",
       "Adevinta                     -0.038368   -0.000269           0.055094   \n",
       "Romreal                       0.007416   -0.041438           0.021800   \n",
       "\n",
       "                    Adevinta   Romreal  \n",
       "Black Sea Property -0.038368  0.007416  \n",
       "River Tech         -0.000269 -0.041438  \n",
       "Northern Drilling   0.055094  0.021800  \n",
       "Adevinta            1.000000  0.030055  \n",
       "Romreal             0.030055  1.000000  "
      ]
     },
     "metadata": {},
     "output_type": "display_data"
    },
    {
     "name": "stdout",
     "output_type": "stream",
     "text": [
      "Best score: -0.00488877721793608\n"
     ]
    }
   ],
   "source": [
    "portfolio_size = 5\n",
    "\n",
    "best_score = portfolio_size\n",
    "\n",
    "best_diversified = None\n",
    "\n",
    "for i in trange(10000):\n",
    "    # Random ticker sample:\n",
    "    ticker_sample = random.sample(log_returns.columns.tolist(), portfolio_size)\n",
    "\n",
    "    corr_matrix = log_returns[ticker_sample].corr()\n",
    "\n",
    "    score = np.tril(np.array(corr_matrix), k=-1).mean()\n",
    "\n",
    "    if score < best_score:\n",
    "        best_score = score\n",
    "        best_diversified = corr_matrix\n",
    "\n",
    "stock_names = {ticker:yf.Ticker(ticker).info['shortName'].title() for ticker in best_diversified.columns.tolist()}\n",
    "\n",
    "display(best_diversified.rename(columns=stock_names, index=stock_names))\n",
    "print(f'Best score: {best_score}')"
   ]
  },
  {
   "cell_type": "markdown",
   "metadata": {},
   "source": [
    "## Portfolio picker"
   ]
  },
  {
   "cell_type": "code",
   "execution_count": 41,
   "metadata": {},
   "outputs": [
    {
     "name": "stderr",
     "output_type": "stream",
     "text": [
      "100%|██████████| 1000/1000 [00:10<00:00, 91.72it/s]\n"
     ]
    },
    {
     "data": {
      "text/html": [
       "<div>\n",
       "<style scoped>\n",
       "    .dataframe tbody tr th:only-of-type {\n",
       "        vertical-align: middle;\n",
       "    }\n",
       "\n",
       "    .dataframe tbody tr th {\n",
       "        vertical-align: top;\n",
       "    }\n",
       "\n",
       "    .dataframe thead th {\n",
       "        text-align: right;\n",
       "    }\n",
       "</style>\n",
       "<table border=\"1\" class=\"dataframe\">\n",
       "  <thead>\n",
       "    <tr style=\"text-align: right;\">\n",
       "      <th></th>\n",
       "      <th>Optimal weights</th>\n",
       "    </tr>\n",
       "  </thead>\n",
       "  <tbody>\n",
       "    <tr>\n",
       "      <th>Vistin Pharma</th>\n",
       "      <td>1.0</td>\n",
       "    </tr>\n",
       "    <tr>\n",
       "      <th>Sparebank 1 Nord-Norge</th>\n",
       "      <td>0.0</td>\n",
       "    </tr>\n",
       "    <tr>\n",
       "      <th>Odfjell Ser. B</th>\n",
       "      <td>0.0</td>\n",
       "    </tr>\n",
       "    <tr>\n",
       "      <th>Jæren Sparebank</th>\n",
       "      <td>0.0</td>\n",
       "    </tr>\n",
       "    <tr>\n",
       "      <th>Sparebank 1 Sørøst-Norge</th>\n",
       "      <td>0.0</td>\n",
       "    </tr>\n",
       "  </tbody>\n",
       "</table>\n",
       "</div>"
      ],
      "text/plain": [
       "                          Optimal weights\n",
       "Vistin Pharma                         1.0\n",
       "Sparebank 1 Nord-Norge                0.0\n",
       "Odfjell Ser. B                        0.0\n",
       "Jæren Sparebank                       0.0\n",
       "Sparebank 1 Sørøst-Norge              0.0"
      ]
     },
     "metadata": {},
     "output_type": "display_data"
    },
    {
     "data": {
      "text/html": [
       "<div>\n",
       "<style scoped>\n",
       "    .dataframe tbody tr th:only-of-type {\n",
       "        vertical-align: middle;\n",
       "    }\n",
       "\n",
       "    .dataframe tbody tr th {\n",
       "        vertical-align: top;\n",
       "    }\n",
       "\n",
       "    .dataframe thead th {\n",
       "        text-align: right;\n",
       "    }\n",
       "</style>\n",
       "<table border=\"1\" class=\"dataframe\">\n",
       "  <thead>\n",
       "    <tr style=\"text-align: right;\">\n",
       "      <th></th>\n",
       "      <th>Portfolio stats</th>\n",
       "    </tr>\n",
       "  </thead>\n",
       "  <tbody>\n",
       "    <tr>\n",
       "      <th>Expected return</th>\n",
       "      <td>0.261070</td>\n",
       "    </tr>\n",
       "    <tr>\n",
       "      <th>Standard deviation</th>\n",
       "      <td>0.489425</td>\n",
       "    </tr>\n",
       "    <tr>\n",
       "      <th>Sharpe ratio</th>\n",
       "      <td>0.492557</td>\n",
       "    </tr>\n",
       "  </tbody>\n",
       "</table>\n",
       "</div>"
      ],
      "text/plain": [
       "                    Portfolio stats\n",
       "Expected return            0.261070\n",
       "Standard deviation         0.489425\n",
       "Sharpe ratio               0.492557"
      ]
     },
     "metadata": {},
     "output_type": "display_data"
    }
   ],
   "source": [
    "portfolio_size = 5\n",
    "\n",
    "r = 0.02\n",
    "\n",
    "weights = np.ones(portfolio_size)/portfolio_size\n",
    "\n",
    "highest_sharpe = 0\n",
    "expected_return = 0\n",
    "p_std = 0\n",
    "best_weights = np.array([])\n",
    "best_stocks = []\n",
    "\n",
    "for i in trange(1000):\n",
    "    # Random ticker sample:\n",
    "    ticker_sample = random.sample(log_returns.columns.tolist(), portfolio_size)\n",
    "\n",
    "    mean_returns = log_returns[ticker_sample].mean() * 252\n",
    "    cov_matrix = log_returns[ticker_sample].cov() * 252\n",
    "\n",
    "    optimal_weights = find_OW(\n",
    "        portfolio_sharpe, \n",
    "        cov_matrix, \n",
    "        mean_returns, \n",
    "        r, \n",
    "        n=portfolio_size\n",
    "    )\n",
    "\n",
    "    p_sharpe = portfolio_sharpe(\n",
    "        optimal_weights, \n",
    "        cov_matrix, \n",
    "        mean_returns, \n",
    "        r\n",
    "    )\n",
    "\n",
    "    if p_sharpe > highest_sharpe:\n",
    "        highest_sharpe = p_sharpe\n",
    "        best_weights = optimal_weights\n",
    "        best_stocks = ticker_sample\n",
    "        expected_return = mean_returns @ optimal_weights\n",
    "        p_std = np.sqrt(portfolio_var(optimal_weights, cov_matrix))\n",
    "\n",
    "\n",
    "stock_names = {ticker:yf.Ticker(ticker).info['shortName'].title() for ticker in best_stocks}\n",
    "\n",
    "results_OW = pd.DataFrame(\n",
    "    data=best_weights.round(4), \n",
    "    index=best_stocks,\n",
    "    columns=['Optimal weights']\n",
    ").rename(stock_names)\n",
    "\n",
    "display(results_OW)\n",
    "\n",
    "results_stats = pd.DataFrame(\n",
    "    data=[expected_return, p_std, highest_sharpe], \n",
    "    index=['Expected return', 'Standard deviation', 'Sharpe ratio'], \n",
    "    columns=['Portfolio stats'])\n",
    "\n",
    "display(results_stats)\n"
   ]
  }
 ],
 "metadata": {
  "kernelspec": {
   "display_name": "base",
   "language": "python",
   "name": "python3"
  },
  "language_info": {
   "codemirror_mode": {
    "name": "ipython",
    "version": 3
   },
   "file_extension": ".py",
   "mimetype": "text/x-python",
   "name": "python",
   "nbconvert_exporter": "python",
   "pygments_lexer": "ipython3",
   "version": "3.11.4"
  },
  "orig_nbformat": 4
 },
 "nbformat": 4,
 "nbformat_minor": 2
}
